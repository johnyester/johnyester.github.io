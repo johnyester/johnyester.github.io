{
 "cells": [
  {
   "cell_type": "markdown",
   "metadata": {},
   "source": [
    "---\n",
    "layout: page\n",
    "title: About\n",
    "permalink: /about/\n",
    "---\n",
    "\n",
    "Embedded software developer in automotive ADAS/AD product development related to:\n",
    "- data collection, visualization, and manipulation\n",
    "- control systems reseach and development. \n",
    "\n",
    "### More Information\n",
    "\n",
    "My motivation for this blog is to share ideas I'm working on to apply low cost sensors and hardware for sports tracking.\n",
    "- Leveraging low cost hardware (a la Raspberry Po) as a platform for:\n",
    "  - embeddable sensors\n",
    "  - intelligent agents\n",
    "  - distributed computation\n",
    "  \n",
    "Additionaly, since most of the tools I use support Markdown, I hope this blog will assist me with developing addtional capability in my code documentation process.\n",
    "\n",
    "Professionaly, I'm involved in software development for\n",
    "- Vehicle data collection and data reduction for automated map generation \n",
    "- Neural Networks for behavioral modeling\n",
    "- Dynamic systems modeling and simulation\n",
    "\n",
    "\n",
    "\n",
    "Other (future) areas I hope discuss include:\n",
    "- Data scrubing and visualization\n",
    "- Camera image processing and other sensor data applications\n",
    "- Dynamic systems modeling and validation\n",
    "- Automated spreadsheet generation\n",
    "- Automated PDF generation for results sharing and reporting.\n",
    "\n",
    "Hat tip to Barry Clark's [Jekyll Now](https://github.com/barryclark/jekyll-now) repo for providing the structure this blog is based on.\n",
    "\n",
    "### Contact me\n",
    "\n",
    "[johnyester@outlook.com](mailto:johnyester@outlook.com)"
   ]
  }
 ],
 "metadata": {
  "kernelspec": {
   "display_name": "Python 3",
   "language": "python",
   "name": "python3"
  },
  "language_info": {
   "codemirror_mode": {
    "name": "ipython",
    "version": 3
   },
   "file_extension": ".py",
   "mimetype": "text/x-python",
   "name": "python",
   "nbconvert_exporter": "python",
   "pygments_lexer": "ipython3",
   "version": "3.6.3"
  }
 },
 "nbformat": 4,
 "nbformat_minor": 2
}
